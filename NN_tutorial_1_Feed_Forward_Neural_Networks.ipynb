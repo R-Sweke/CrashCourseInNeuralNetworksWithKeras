{
 "cells": [
  {
   "cell_type": "markdown",
   "metadata": {
    "slideshow": {
     "slide_type": "slide"
    }
   },
   "source": [
    "### A Crash Course on Neural Networks with Keras\n",
    "\n",
    "Some broad questions:\n",
    "\n",
    "  - What is an artifical neural network? What is \"Deep learning\"?\n",
    "  - Why should we use them/ be interested in them?\n",
    "  - When should we use them? What can we do with them? How should we use them?\n",
    "  - *What interesting problems in physics can deep learning/neural networks help us approach?*\n",
    "  \n",
    "Specifically: Focus is on building and training deep neural networks with [Keras](https://keras.io/). Going to look at three main areas/frameworks:\n",
    "\n",
    "  - Supervised learning\n",
    "  - Unsupervised learning (Generative Models)\n",
    "  - Reinforcement learning\n",
    "  \n",
    "In some sense, this is qoing to be quick and dirty, with a focus on code that works, and I'm *not* going to talk about statistical learning theory (sample complexity, generalization bounds etc) - but, this is interesting! See [Michael Wolf's lecture notes](https://www-m5.ma.tum.de/foswiki/pub/M5/Allgemeines/MA4801_2016S/ML_notes_main.pdf) for a good introduction and survey.\n",
    "  \n"
   ]
  },
  {
   "cell_type": "markdown",
   "metadata": {},
   "source": [
    "#### 1) Getting Started - Supervised Learning and Feed-Forward Neural Networks\n",
    "\n",
    "Supervised learning involves learning from _labelled data_, drawn from an underlying probability distribution.\n",
    "\n",
    "Typical example is categorical prediction: Given an image belonging to one of a certain number of categories, we would like a function which can assign the image to the correct category.\n",
    "\n",
    "In a supervised learning setting we assume we have a (big) dataset of images labelled by category, and we would like to use this information to \"train\" a neural network (parametrized function from image to category label) such that ultimately it can correctly predict/assign categories to *unseen* images.\n",
    "\n",
    "\n",
    "i.e. [MNIST](http://yann.lecun.com/exdb/mnist/):\n",
    "\n",
    "<img src=\"images/mnist_100_digits.png\",width=300,height=300>\n",
    "\n",
    "So, the first questions we answer are:\n",
    "\n",
    "   - How do we construct suitable (parametrized) functions via neural networks?\n",
    "   - How do we use the labelled data to obtain the optimal parametrization? (How do we \"learn\" from the data?)\n",
    "   \n",
    "This intro, and all diagrams, are taken (almost) verbatim from [Michael Nielsen's online book](http://neuralnetworksanddeeplearning.com/index.html)."
   ]
  },
  {
   "cell_type": "markdown",
   "metadata": {},
   "source": [
    "##### 1a) What is a neural network?\n",
    "\n",
    "Really, a neural network is nothing but a parameterized function! \n",
    "\n",
    "It is helpful to start by considering the simplest building block - a \"perceptron\" or \"artificial neuron\":\n",
    "\n",
    "<img src=\"images/perceptron.png\",width=200,height=200>\n",
    "\n",
    "In this case, $x_i$ are binary inputs, and the output is a binary variable given by:\n",
    "\n",
    "$$\\begin{eqnarray}\n",
    "  \\mbox{output} & = & \\left\\{ \\begin{array}{ll}\n",
    "      0 & \\mbox{if } \\sum_j w_j x_j \\leq  \\mbox{threshold} \\\\\n",
    "      1 & \\mbox{if } \\sum_j w_j x_j > \\mbox{ threshold}\n",
    "      \\end{array} \\right.\n",
    "\\tag{1}\\end{eqnarray}\n",
    "$$\n",
    "\n",
    "where $\\{w_j\\}$ are the perceptron *weights*. Typically though, we will incorporate the threshold as a perceptron *bias* and rewrite the perceptron function as:\n",
    "\n",
    "$$\n",
    "\\begin{eqnarray}\n",
    "  \\mbox{output} = \\left\\{ \n",
    "    \\begin{array}{ll} \n",
    "      0 & \\mbox{if } w\\cdot x + b \\leq 0 \\\\\n",
    "      1 & \\mbox{if } w\\cdot x + b > 0\n",
    "    \\end{array}\n",
    "  \\right.\n",
    "\\tag{2}\\end{eqnarray}\n",
    "$$\n"
   ]
  },
  {
   "cell_type": "markdown",
   "metadata": {},
   "source": [
    "Given perceptrons, we can now build *artificial neural networks* (ANNs) by combining perceptrons:\n",
    "\n",
    "<img src=\"images/mlp.png\",width=400,height=400>\n",
    "\n",
    "What is the representational power of such networks? Well, we can implement a NAND gate with the following perceptron:\n",
    "\n",
    "<img src=\"images/nand.png\",width=200,height=200>\n",
    "\n",
    "So, in principal, *any* logical function can be represented by an ANN of perceptrons - great!"
   ]
  },
  {
   "cell_type": "markdown",
   "metadata": {},
   "source": [
    "But, remember that the goal is to develop (\"learning\") algorithms via which we can can iteratively update the weights/parameters of the ANN in order to obtain the function that we want (but dont know a priori) -  In order to develop such algorithms it turns out that we want *differentiable* ANN's. \n",
    "   \n",
    "Additionally, we would like to deal with more than binary variables!\n",
    "\n",
    "To this end, lets rewrite the perceptron as:\n",
    "\n",
    "$$\\mbox{output} = f(z)$$\n",
    "\n",
    "where $z = w\\cdot x + b$ and $f$ is the heaviside step function.\n",
    "\n",
    "Using this formalism we can obtain more general and differentiable ANN's by considering alternative functions $f$. Typical examples are:\n",
    "\n",
    "  - $f(z) = \\mathrm{sigmoid}(z) = \\frac{1}{1+e^{-z}}$\n",
    "  - $f(z) = \\tanh(z)$\n",
    "  - $f(z) = \\mathrm{relu}(z)$ where $\\mathrm{relu}(z) = 0$ if $z < 0$ or $z$ if $ z \\geq 0$\n",
    "\n",
    "\n",
    "\n",
    "\n",
    "\n"
   ]
  },
  {
   "cell_type": "code",
   "execution_count": 1,
   "metadata": {},
   "outputs": [
    {
     "data": {
      "image/png": "[encoded data removed]",
      "text/plain": [
       "<matplotlib.figure.Figure at 0x7fb2b03ad240>"
      ]
     },
     "metadata": {},
     "output_type": "display_data"
    }
   ],
   "source": [
    "import numpy as np\n",
    "from matplotlib import pyplot as plt\n",
    "%matplotlib inline\n",
    "\n",
    "def sigmoid(z):\n",
    "    return 1/(1+np.exp(-z))\n",
    "\n",
    "def heaviside(z):\n",
    "    if z < 0:\n",
    "        return 0\n",
    "    else:\n",
    "        return 1\n",
    "    \n",
    "x_range = [j/100 for j in range(-1000,1000)]\n",
    "sigmoid_vals = [sigmoid(x) for x in x_range]\n",
    "heaviside_vals = [heaviside(x) for x in x_range]\n",
    "\n",
    "_ = plt.plot(x_range, sigmoid_vals,'b',x_range, heaviside_vals,'r')  "
   ]
  },
  {
   "cell_type": "markdown",
   "metadata": {},
   "source": [
    "As it turns out, feed-forward neural networks containing a single hidden layer with a finite number of sigmoid neurons can approximate arbitrary continuous functions on compact subsets of $\\mathbb{R}^n$ - the [universal approximation theorem](https://en.wikipedia.org/wiki/Universal_approximation_theorem).\n",
    "\n",
    "This is obviously good news, BUT! This theorem gives us no insight how to *learn* a given parametrization."
   ]
  },
  {
   "cell_type": "markdown",
   "metadata": {},
   "source": [
    "##### 1b) How do we train a neural network?\n",
    "\n",
    "In order to talk about this, its helpful to consider a concrete example, like MNIST.\n",
    "\n",
    "In this case we can imagine using a feed forward neural network architecture along these lines:\n",
    "\n",
    "<img src=\"images/mnist_net.png\",width=400,height=400>\n",
    "\n",
    "In this architecture the network has ten outputs, each of which we can associate with a probability of the input image belonging to a specific category."
   ]
  },
  {
   "cell_type": "markdown",
   "metadata": {},
   "source": [
    "The first step towards learning algorithms is to construct a (differentiable) *cost function* over the dataset. For example we could use the Mean Squared Error (MSE):\n",
    "\n",
    "$$C(\\{w_j,b_j\\}) = \\frac{1}{2N}\\sum_{i = 1}^N\\| y(x_i) - y^T_i\\|^2\\tag{3}$$\n",
    "\n",
    "where $y(x_i)$ is the vector output of the neural network on the input $x_i$, and $y^T_i$ is the target label for $x_i$ given as a *one-hot* vector - i.e. a vector of zeros except for a 1 in the index corresponding to the image category (the probability distribution you get when you know the answer).\n",
    "\n",
    "Now the problem is well defined: We want to obtain a parametrization of the ANN, such that the cost function, over the entire dataset, is minimized. \n",
    "\n",
    "In general, for any non-trivial architectures, finding this minimum directly is not an option, and so we would like to develop and utilize iterative approaches."
   ]
  },
  {
   "cell_type": "markdown",
   "metadata": {},
   "source": [
    "A very natural approach is *gradient descent*:"
   ]
  },
  {
   "cell_type": "code",
   "execution_count": 3,
   "metadata": {},
   "outputs": [
    {
     "data": {
      "image/png": "[encoded data removed]",
      "text/plain": [
       "<matplotlib.figure.Figure at 0x7fb27b686198>"
      ]
     },
     "metadata": {},
     "output_type": "display_data"
    }
   ],
   "source": [
    "x_range = [j/100 for j in range(-500,500)]\n",
    "x_squared = [x**2 for x in x_range]\n",
    "\n",
    "_ = plt.plot(x_range, x_squared,'b') "
   ]
  },
  {
   "cell_type": "markdown",
   "metadata": {},
   "source": [
    "As an illustration lets just consider a simple function like $f(x) = x^2$. To find the minimum we can use the rule:\n",
    "\n",
    "$$x' = x - \\eta\\frac{\\partial f}{\\partial x}\\Big|_{x}$$\n",
    "\n",
    "Where $\\eta$ is the step size (which its clear will require some thought to choose in an appropriate way)."
   ]
  },
  {
   "cell_type": "markdown",
   "metadata": {},
   "source": [
    "Analagously for our multi-dimensional cost function we can use the rule:\n",
    "\n",
    "$$ w'_j = w_j - \\eta\\frac{\\partial C}{\\partial w_j}\\Big|_{\\{w_j, x_i,\\ldots\\}}\\tag{4}$$\n",
    "\n",
    "But how do we obtain the partial derivatives? Provided that all elements (activation functions, cost function) are differentiable, these partial derivatives can be obtained via the chain rule.\n",
    "\n",
    "This is the famous [Backpropogation](http://colah.github.io/posts/2015-08-Backprop/) algorithm - really nothing but the chain rule! \n",
    "\n",
    "However, actually doing this for a given architecture is tedious - but worth doing for a simple architecture, at least once :)\n",
    "\n",
    "At this point we can finally understand exactly what Keras, Tensorflow, Caffe, PyTorch, Theano really are. They are nothing but *autograd* packages, which quickly and automatically take all partial derivatives and calculate all required gradients for *arbitary* network architectures!"
   ]
  },
  {
   "cell_type": "markdown",
   "metadata": {},
   "source": [
    "######  - Some practical considerations:\n",
    "\n",
    "The way we have defined things so far implies evaluating the ANN on the entire dataset before calculating the gradients and doing a weight update.\n",
    "\n",
    "In practice, it works better to use *Stochastic Gradient Descent*:\n",
    "\n",
    "   - Pick a small batch (minibatch in the jargon) randomly from the training set.\n",
    "   - Calculate the loss and gradients from this minibatch.\n",
    "   - Perform a weight update. \n",
    "   \n",
    "The idea is that this random sampling gives good approximations to the total loss, without requiring as many forward passes through the network.\n",
    "\n",
    "In practice of course there are now more sophisticated ways to do this, which take into account aspects like momentum, in an attempt to solve the major problems of:\n",
    "\n",
    "   - slow convergence\n",
    "   - avoiding local minima"
   ]
  },
  {
   "cell_type": "markdown",
   "metadata": {},
   "source": [
    "<img src=\"images/optimizers_1.gif\",width=400,height=400>\n",
    "\n",
    "The [keras docs](https://keras.io/optimizers/) contains a list of available implementations with references."
   ]
  },
  {
   "cell_type": "markdown",
   "metadata": {},
   "source": [
    "##### 1c) When does this become \"deep\" learning? How do I get intuition for why this might work?\n",
    "\n",
    "Roughly, we can think of each neuron in a layer as extracting a certain feature from the data:\n",
    "\n",
    "<img src=\"images/interpretation.png\",width=400,height=600>\n",
    "\n",
    "The idea/intuition is that when stacking multiple layers on top of each other, we can view each layer as extracting a succesively more abstract set of features (think of v1 -> v5 cortex in the brain).\n",
    "\n",
    "<img src=\"images/nn_2_layers.png\",width=400,height=400>\n",
    "\n",
    "Really, \"deep learning\" is nothing but the training of \"deep neural networks\", which, when working well, manage to extract hierachies of succesively abstract features.\n",
    "\n"
   ]
  },
  {
   "cell_type": "markdown",
   "metadata": {},
   "source": [
    "#### 2) Building and Training a Feed-Forward Neural Network for MNIST classification with Keras\n",
    "\n",
    "Ok, lets see how easy this is using Keras..."
   ]
  },
  {
   "cell_type": "code",
   "execution_count": 6,
   "metadata": {},
   "outputs": [],
   "source": [
    "# ------- Imports -----------\n",
    "\n",
    "import numpy as np\n",
    "from numpy import random as rd\n",
    "\n",
    "import keras as K\n",
    "from keras.callbacks import EarlyStopping, ReduceLROnPlateau\n",
    "from keras.models import Sequential, Model\n",
    "from keras.regularizers import l1_l2\n",
    "from keras.layers import Dense, Dropout, Input\n",
    "from keras.optimizers import Adam\n",
    "from keras.datasets import mnist\n",
    "\n",
    "%matplotlib inline\n",
    "import matplotlib.pyplot as plt"
   ]
  },
  {
   "cell_type": "markdown",
   "metadata": {},
   "source": [
    "We start by loading the data, and setting some of the important properties:"
   ]
  },
  {
   "cell_type": "code",
   "execution_count": 8,
   "metadata": {},
   "outputs": [],
   "source": [
    "(x_train_images, y_train), (x_test_images, y_test) = mnist.load_data()\n",
    "\n",
    "num_training_instances = x_train_images.shape[0]\n",
    "num_test_instances = x_test_images.shape[0]\n",
    "\n",
    "image_width = x_train_images.shape[1]\n",
    "image_height = x_train_images.shape[2]\n",
    "\n",
    "num_categories = 10"
   ]
  },
  {
   "cell_type": "markdown",
   "metadata": {},
   "source": [
    "Lets view a random selection of the data..."
   ]
  },
  {
   "cell_type": "code",
   "execution_count": 10,
   "metadata": {},
   "outputs": [
    {
     "data": {
      "image/png": "[encoded data removed]",
      "text/plain": [
       "<matplotlib.figure.Figure at 0x7fb22065be80>"
      ]
     },
     "metadata": {},
     "output_type": "display_data"
    }
   ],
   "source": [
    "display_width = 6\n",
    "display_height = 3\n",
    "display_indices = rd.choice(num_training_instances,display_width*display_height,replace=False)\n",
    "\n",
    "fig, axes1 = plt.subplots(display_height,display_width,figsize=(15,5))\n",
    "counter = 0\n",
    "for j in range(display_height):\n",
    "    for k in range(display_width):\n",
    "        axes1[j][k].set_axis_off()\n",
    "        axes1[j][k].imshow(x_train_images[display_indices[counter],:,:], cmap = 'gray')\n",
    "        counter += 1"
   ]
  },
  {
   "cell_type": "markdown",
   "metadata": {},
   "source": [
    "Because we are going to use a feed-forward neural network, we need to reshape the instances into feature vectors.\n",
    "\n",
    "We also rescale the data to be between 0 and 1 - NB: This is an important step! In general ensuring the correct scaling and distribution of inputs, activations and weights is non-trivial and actively researched! See for example [this recent paper](https://arxiv.org/abs/1706.02515) for state of the art and discussion with lots of references, as well as [this excellent tutorial](http://cs231n.github.io/neural-networks-2/) for a detailed discussion."
   ]
  },
  {
   "cell_type": "code",
   "execution_count": 11,
   "metadata": {},
   "outputs": [
    {
     "name": "stdout",
     "output_type": "stream",
     "text": [
      "Training dataset shape: (60000, 784)\n",
      "Test dataset shape:     (10000, 784)\n"
     ]
    }
   ],
   "source": [
    "num_features = image_width*image_height\n",
    "\n",
    "x_train_vectors = np.reshape(x_train_images,[num_training_instances,num_features])/255\n",
    "x_test_vectors = np.reshape(x_test_images,[num_test_instances,num_features])/255\n",
    "\n",
    "print(\"Training dataset shape:\", x_train_vectors.shape )\n",
    "print(\"Test dataset shape:    \", x_test_vectors.shape )"
   ]
  },
  {
   "cell_type": "markdown",
   "metadata": {},
   "source": [
    "Additionally, the image labels are currently integers between 0 and 9. We need to convert these into one-hot labels - i.e. a ten dimensional vector with a 1 in the index corresponding to the category. As discussed, this allows us to meaningfully compare the label with a predicted probability distribution over the images."
   ]
  },
  {
   "cell_type": "code",
   "execution_count": 12,
   "metadata": {},
   "outputs": [],
   "source": [
    "y_train_onehot = np.zeros((num_training_instances,num_categories))\n",
    "y_test_onehot = np.zeros((num_test_instances,num_categories))\n",
    "\n",
    "for j in range(num_training_instances):\n",
    "    y_train_onehot[j,y_train[j]] = 1\n",
    "    \n",
    "for j in range(num_test_instances):\n",
    "    y_test_onehot[j,y_test[j]] = 1"
   ]
  },
  {
   "cell_type": "markdown",
   "metadata": {},
   "source": [
    "Now the preprocessing work is done, we can build the model architecture.\n",
    "\n",
    "Lets first build a really simple model to get a feel for the syntax and ingredients. \n",
    "\n",
    "In a nutshell, ANN architectures are constructed by chaining together Keras [Layers](https://keras.io/layers/about-keras-layers/).\n",
    "\n",
    "This can be achieved through either the Keras *Model* class, or the Keras *Sequential* class. The Sequential class is simpler, but less flexible, so lets jump straight into the Model class (which is also extremely easy!):"
   ]
  },
  {
   "cell_type": "code",
   "execution_count": 17,
   "metadata": {},
   "outputs": [],
   "source": [
    "# The first layer of any Model is always an input layer.\n",
    "#      - For this first layer we have to explictly provide the input shape. Note the placeholder for batch size!\n",
    "\n",
    "inputs = Input(shape = (num_features,), name = \"Inputs\")\n",
    "\n",
    "# We then add layers to the model, specifiying the layer whose outputs should be acted on:\n",
    "layer_1 = Dense(units=100, activation=\"relu\", name=\"Layer_1\")(inputs)\n",
    "layer_2 = Dense(units=50, activation=\"relu\", name=\"Layer_2\")(layer_1)\n",
    "outputs = Dense(units=num_categories, activation=\"softmax\", name=\"Predictions\")(layer_2)\n",
    "\n",
    "# We then instantiate the model as a function from inputs to outputs - the relevant layers are inferred automatically.\n",
    "simple_ffnn = Model(inputs=inputs, outputs=outputs, name = \"Simple_FFNN\")\n",
    "\n",
    "# Finally, we compile the model, specifying a loss function, an optimizer, and the metrics we are interested in.\n",
    "simple_ffnn.compile(optimizer='adam',loss='categorical_crossentropy',metrics=['accuracy'])"
   ]
  },
  {
   "cell_type": "code",
   "execution_count": 18,
   "metadata": {},
   "outputs": [
    {
     "name": "stdout",
     "output_type": "stream",
     "text": [
      "_________________________________________________________________\n",
      "Layer (type)                 Output Shape              Param #   \n",
      "=================================================================\n",
      "Inputs (InputLayer)          (None, 784)               0         \n",
      "_________________________________________________________________\n",
      "Layer_1 (Dense)              (None, 100)               78500     \n",
      "_________________________________________________________________\n",
      "Layer_2 (Dense)              (None, 50)                5050      \n",
      "_________________________________________________________________\n",
      "Predictions (Dense)          (None, 10)                510       \n",
      "=================================================================\n",
      "Total params: 84,060\n",
      "Trainable params: 84,060\n",
      "Non-trainable params: 0\n",
      "_________________________________________________________________\n"
     ]
    }
   ],
   "source": [
    "# To check that everything worked as we expected we can view a summary of the model (the computational graph):\n",
    "simple_ffnn.summary()"
   ]
  },
  {
   "cell_type": "markdown",
   "metadata": {},
   "source": [
    "One thing that I haven't yet mentioned is dropout and regularization!\n",
    "\n",
    "Of course, the real problem that we are interested in is not really to train an ANN that can get high accuracies on the training set, but to train an ANN that can get high accuracies on *unseen data* (which we assume is drawn from the same probability distribution as the data). This is the problem of *generalization*.\n",
    "\n",
    "I dont want to go into details, but two standard techniques are:\n",
    "\n",
    "   - [dropout](http://jmlr.org/papers/volume15/srivastava14a.old/srivastava14a.pdf)\n",
    "   - [regularization](http://cs231n.github.io/neural-networks-2/)\n",
    "    \n",
    "Roughly, the idea of dropout is to randomly set to zero the activations of certain neurons, in order to encourage the network to not rely completely on very small subset of features. Regularization is more complex and comes in more flavours. See the reference for details!"
   ]
  },
  {
   "cell_type": "markdown",
   "metadata": {},
   "source": [
    "Of course, in general its nice to have a function that allows you to build arbitrary architectures with ease:"
   ]
  },
  {
   "cell_type": "code",
   "execution_count": 22,
   "metadata": {},
   "outputs": [],
   "source": [
    "def build_ffnn(ff_layers, num_features, num_outputs, learning_rate):\n",
    "    \"\"\"\"\n",
    "    This function builds and compiles a Feed Forward Neural Network. In particular it possible to specify\n",
    "    the structure of the feed forward layers arbitrarily, using the following convention:\n",
    "    \n",
    "      - ff_layers is a list of lists. Each inner list has the form [neurons, output_dropout]\n",
    "    \n",
    "    :param: num_features: the number of input features to the NN\n",
    "    :param: num_categories: The length of the target label\n",
    "    :param: ff_layers: A specification of the feed forward structure of the network, in the form given above.\n",
    "    :param: initial_lr: The initial lr for the optimizer\n",
    "    :return: nnet: The feed forward neural network, as a Keras sequential object  \n",
    "    \"\"\"\n",
    "    \n",
    "    inputs = Input(shape=(num_features,), name = \"Inputs\")\n",
    "    \n",
    "    dense_layers = []\n",
    "    dropout_layers = []\n",
    "    \n",
    "    for j in range(len(ff_layers)):\n",
    "        if j == 0:\n",
    "            dropout_layers.append(Dropout(rate=ff_layers[j][1],name=\"dropout_on_inputs\")(inputs))\n",
    "        else:\n",
    "            dropout_layers.append(Dropout(rate=ff_layers[j][1],name=\"dropout_on_dense_layer_\"+str(j))(dense_layers[j-1]))\n",
    "            \n",
    "        dense_layers.append(Dense(units=ff_layers[j][0], \n",
    "                            activation=\"relu\", \n",
    "                            name=\"dense_layer_\"+str(j+1))(dropout_layers[j]))\n",
    "    \n",
    "    outputs = Dense(units=num_outputs, activation=\"softmax\", name=\"Predictions\")(dense_layers[len(dense_layers)-1])\n",
    "    \n",
    "    ffnn = Model(inputs=inputs, outputs=outputs)\n",
    "    \n",
    "    ad_opt = Adam(lr=learning_rate)\n",
    "    ffnn.compile(optimizer=ad_opt,loss='categorical_crossentropy',metrics=['accuracy'])\n",
    "    \n",
    "    return ffnn"
   ]
  },
  {
   "cell_type": "code",
   "execution_count": 23,
   "metadata": {},
   "outputs": [
    {
     "name": "stdout",
     "output_type": "stream",
     "text": [
      "_________________________________________________________________\n",
      "Layer (type)                 Output Shape              Param #   \n",
      "=================================================================\n",
      "Inputs (InputLayer)          (None, 784)               0         \n",
      "_________________________________________________________________\n",
      "dropout_on_inputs (Dropout)  (None, 784)               0         \n",
      "_________________________________________________________________\n",
      "dense_layer_1 (Dense)        (None, 1000)              785000    \n",
      "_________________________________________________________________\n",
      "dropout_on_dense_layer_1 (Dr (None, 1000)              0         \n",
      "_________________________________________________________________\n",
      "dense_layer_2 (Dense)        (None, 500)               500500    \n",
      "_________________________________________________________________\n",
      "dropout_on_dense_layer_2 (Dr (None, 500)               0         \n",
      "_________________________________________________________________\n",
      "dense_layer_3 (Dense)        (None, 250)               125250    \n",
      "_________________________________________________________________\n",
      "Predictions (Dense)          (None, 10)                2510      \n",
      "=================================================================\n",
      "Total params: 1,413,260\n",
      "Trainable params: 1,413,260\n",
      "Non-trainable params: 0\n",
      "_________________________________________________________________\n"
     ]
    }
   ],
   "source": [
    "# ---- NN specification --------\n",
    "learning_rate = 0.001\n",
    "ff_layers = [[1000,0.1],[500,0.1],[250,0.1]]\n",
    "\n",
    "# ------ Build the network ------\n",
    "ffnn = build_ffnn(ff_layers, num_features, num_categories, learning_rate)\n",
    "ffnn.summary()"
   ]
  },
  {
   "cell_type": "markdown",
   "metadata": {},
   "source": [
    "Finally, we can train our model.\n",
    "\n",
    "In particular, we use learning rate decay, and early stopping on validation metrics in order to determine convergence and prevent overfitting."
   ]
  },
  {
   "cell_type": "code",
   "execution_count": 24,
   "metadata": {},
   "outputs": [],
   "source": [
    "# ------ Training Parameters -------\n",
    "\n",
    "batch_size = 128\n",
    "max_epochs = 100\n",
    "validation_split = 0.15\n",
    "stopping_patience = 6\n",
    "lr_decay_factor = 0.2\n",
    "lr_patience = 3\n",
    "lr_min = 0.0001\n",
    "lr_cooldown = 2\n",
    "\n",
    "# -------- Callbacks ----------------\n",
    "        \n",
    "early_stopping = EarlyStopping(monitor=\"val_acc\", mode='auto',patience=stopping_patience)\n",
    "\n",
    "LR_schedule = ReduceLROnPlateau(monitor=\"val_acc\", \n",
    "                                      factor=lr_decay_factor, \n",
    "                                      patience=lr_patience, \n",
    "                                      verbose=1, \n",
    "                                      mode='auto', \n",
    "                                      epsilon=0.0001, \n",
    "                                      cooldown=lr_cooldown, min_lr=lr_min)"
   ]
  },
  {
   "cell_type": "code",
   "execution_count": 25,
   "metadata": {},
   "outputs": [
    {
     "name": "stdout",
     "output_type": "stream",
     "text": [
      "Train on 54000 samples, validate on 6000 samples\n",
      "Epoch 1/100\n",
      "54000/54000 [==============================] - 2s 39us/step - loss: 0.2506 - acc: 0.9236 - val_loss: 0.0908 - val_acc: 0.9725\n",
      "Epoch 2/100\n",
      "54000/54000 [==============================] - 1s 25us/step - loss: 0.1046 - acc: 0.9669 - val_loss: 0.0867 - val_acc: 0.9752\n",
      "Epoch 3/100\n",
      "54000/54000 [==============================] - 1s 26us/step - loss: 0.0772 - acc: 0.9758 - val_loss: 0.0743 - val_acc: 0.9763\n",
      "Epoch 4/100\n",
      "54000/54000 [==============================] - 1s 26us/step - loss: 0.0586 - acc: 0.9811 - val_loss: 0.0759 - val_acc: 0.9775\n",
      "Epoch 5/100\n",
      "54000/54000 [==============================] - 1s 27us/step - loss: 0.0507 - acc: 0.9840 - val_loss: 0.0703 - val_acc: 0.9810\n",
      "Epoch 6/100\n",
      "54000/54000 [==============================] - 2s 31us/step - loss: 0.0441 - acc: 0.9854 - val_loss: 0.0605 - val_acc: 0.9840\n",
      "Epoch 7/100\n",
      "54000/54000 [==============================] - 1s 27us/step - loss: 0.0395 - acc: 0.9870 - val_loss: 0.0756 - val_acc: 0.9797\n",
      "Epoch 8/100\n",
      "54000/54000 [==============================] - 1s 28us/step - loss: 0.0337 - acc: 0.9890 - val_loss: 0.0660 - val_acc: 0.9818\n",
      "Epoch 9/100\n",
      "54000/54000 [==============================] - 2s 29us/step - loss: 0.0344 - acc: 0.9886 - val_loss: 0.0666 - val_acc: 0.9817\n",
      "Epoch 10/100\n",
      "54000/54000 [==============================] - 1s 27us/step - loss: 0.0279 - acc: 0.9909 - val_loss: 0.0700 - val_acc: 0.9820\n",
      "\n",
      "Epoch 00010: ReduceLROnPlateau reducing learning rate to 0.00020000000949949026.\n",
      "Epoch 11/100\n",
      "54000/54000 [==============================] - 2s 30us/step - loss: 0.0120 - acc: 0.9962 - val_loss: 0.0511 - val_acc: 0.9873\n",
      "Epoch 12/100\n",
      "54000/54000 [==============================] - 1s 26us/step - loss: 0.0076 - acc: 0.9977 - val_loss: 0.0509 - val_acc: 0.9873\n",
      "Epoch 13/100\n",
      "54000/54000 [==============================] - 1s 25us/step - loss: 0.0057 - acc: 0.9981 - val_loss: 0.0532 - val_acc: 0.9873\n",
      "Epoch 14/100\n",
      "54000/54000 [==============================] - 1s 26us/step - loss: 0.0053 - acc: 0.9983 - val_loss: 0.0545 - val_acc: 0.9873\n",
      "Epoch 15/100\n",
      "54000/54000 [==============================] - 2s 29us/step - loss: 0.0048 - acc: 0.9985 - val_loss: 0.0620 - val_acc: 0.9865\n",
      "\n",
      "Epoch 00015: ReduceLROnPlateau reducing learning rate to 0.0001.\n",
      "Epoch 16/100\n",
      "54000/54000 [==============================] - 1s 26us/step - loss: 0.0037 - acc: 0.9987 - val_loss: 0.0577 - val_acc: 0.9868\n",
      "Epoch 17/100\n",
      "54000/54000 [==============================] - 2s 28us/step - loss: 0.0033 - acc: 0.9989 - val_loss: 0.0569 - val_acc: 0.9877\n",
      "Epoch 18/100\n",
      "54000/54000 [==============================] - 1s 26us/step - loss: 0.0033 - acc: 0.9989 - val_loss: 0.0585 - val_acc: 0.9880\n",
      "Epoch 19/100\n",
      "54000/54000 [==============================] - 2s 28us/step - loss: 0.0029 - acc: 0.9990 - val_loss: 0.0616 - val_acc: 0.9870\n",
      "Epoch 20/100\n",
      "54000/54000 [==============================] - 2s 28us/step - loss: 0.0027 - acc: 0.9992 - val_loss: 0.0597 - val_acc: 0.9875\n",
      "Epoch 21/100\n",
      "54000/54000 [==============================] - 1s 25us/step - loss: 0.0030 - acc: 0.9991 - val_loss: 0.0676 - val_acc: 0.9858\n",
      "Epoch 22/100\n",
      "54000/54000 [==============================] - 2s 28us/step - loss: 0.0026 - acc: 0.9992 - val_loss: 0.0637 - val_acc: 0.9867\n",
      "Epoch 23/100\n",
      "54000/54000 [==============================] - 2s 30us/step - loss: 0.0023 - acc: 0.9992 - val_loss: 0.0633 - val_acc: 0.9865\n",
      "Epoch 24/100\n",
      "54000/54000 [==============================] - 1s 26us/step - loss: 0.0021 - acc: 0.9993 - val_loss: 0.0619 - val_acc: 0.9883\n",
      "Epoch 25/100\n",
      "54000/54000 [==============================] - 1s 26us/step - loss: 0.0025 - acc: 0.9992 - val_loss: 0.0657 - val_acc: 0.9880\n",
      "Epoch 26/100\n",
      "54000/54000 [==============================] - 1s 27us/step - loss: 0.0020 - acc: 0.9993 - val_loss: 0.0697 - val_acc: 0.9878\n",
      "Epoch 27/100\n",
      "54000/54000 [==============================] - 1s 27us/step - loss: 0.0021 - acc: 0.9994 - val_loss: 0.0663 - val_acc: 0.9875\n",
      "Epoch 28/100\n",
      "54000/54000 [==============================] - 1s 27us/step - loss: 0.0020 - acc: 0.9992 - val_loss: 0.0665 - val_acc: 0.9872\n",
      "Epoch 29/100\n",
      "54000/54000 [==============================] - 1s 27us/step - loss: 0.0020 - acc: 0.9992 - val_loss: 0.0686 - val_acc: 0.9865\n",
      "Epoch 30/100\n",
      "54000/54000 [==============================] - 1s 26us/step - loss: 0.0018 - acc: 0.9994 - val_loss: 0.0633 - val_acc: 0.9882\n"
     ]
    }
   ],
   "source": [
    "training_history = ffnn.fit(x_train_vectors, y_train_onehot, batch_size=batch_size, \n",
    "                          epochs=max_epochs, verbose=1, validation_split=0.1,callbacks = [early_stopping, LR_schedule])"
   ]
  },
  {
   "cell_type": "markdown",
   "metadata": {},
   "source": [
    "Now that our network is trained we would of course like to know how well it does on the test set:"
   ]
  },
  {
   "cell_type": "code",
   "execution_count": 26,
   "metadata": {},
   "outputs": [
    {
     "name": "stdout",
     "output_type": "stream",
     "text": [
      "Test Accuracy =  98.72999787330627 %\n"
     ]
    }
   ],
   "source": [
    "test_metrics = ffnn.evaluate(x = x_test_vectors, y = y_test_onehot, batch_size = num_test_instances, verbose = 0)\n",
    "test_loss = test_metrics[0]\n",
    "test_accuracy = test_metrics[1]\n",
    "print(\"Test Accuracy = \", str(test_accuracy*100),\"%\")"
   ]
  },
  {
   "cell_type": "markdown",
   "metadata": {},
   "source": [
    "Lets do some analysis of the training procedure. The training history object contains the information from our callbacks:"
   ]
  },
  {
   "cell_type": "code",
   "execution_count": 27,
   "metadata": {},
   "outputs": [
    {
     "data": {
      "text/plain": [
       "dict_keys(['acc', 'val_loss', 'lr', 'val_acc', 'loss'])"
      ]
     },
     "execution_count": 27,
     "metadata": {},
     "output_type": "execute_result"
    }
   ],
   "source": [
    "training_history.history.keys()"
   ]
  },
  {
   "cell_type": "code",
   "execution_count": 28,
   "metadata": {},
   "outputs": [],
   "source": [
    "val_acc_history = training_history.history[\"val_acc\"]\n",
    "acc_history = training_history.history[\"acc\"]"
   ]
  },
  {
   "cell_type": "code",
   "execution_count": 30,
   "metadata": {},
   "outputs": [
    {
     "data": {
      "image/png": "[encoded data removed]",
      "text/plain": [
       "<matplotlib.figure.Figure at 0x7fb2000b9470>"
      ]
     },
     "metadata": {},
     "output_type": "display_data"
    }
   ],
   "source": [
    "fig = plt.figure(figsize=(15,3))\n",
    "\n",
    "ax1 = fig.add_subplot(121)\n",
    "_ = ax1.plot(val_acc_history,'b',val_acc_history,'o')\n",
    "ax1.set_title(\"Validation Accuracy\")\n",
    "ax2 = fig.add_subplot(122)\n",
    "_ = ax2.plot(acc_history,'r',acc_history,'ro')\n",
    "_ = ax2.set_title(\"Training Set Accuracy\")"
   ]
  },
  {
   "cell_type": "markdown",
   "metadata": {},
   "source": [
    "To do analysis of the neural network it may also be interesting to look at the weights:"
   ]
  },
  {
   "cell_type": "code",
   "execution_count": 32,
   "metadata": {},
   "outputs": [
    {
     "name": "stdout",
     "output_type": "stream",
     "text": [
      " ------------ \n",
      "Weight matrix of layer 1 has shape:  (784, 1000)\n",
      "Bias vector of layer 1 has shape:  (1000,)\n",
      " ------------ \n",
      "Weight matrix of layer 2 has shape:  (1000, 500)\n",
      "Bias vector of layer 2 has shape:  (500,)\n",
      " ------------ \n",
      "Weight matrix of layer 3 has shape:  (500, 250)\n",
      "Bias vector of layer 3 has shape:  (250,)\n",
      " ------------ \n",
      "Weight matrix of layer 4 has shape:  (250, 10)\n",
      "Bias vector of layer 4 has shape:  (10,)\n"
     ]
    }
   ],
   "source": [
    "weights = ffnn.get_weights()\n",
    "layer_number = 0\n",
    "for count,weight in enumerate(weights):\n",
    "    \n",
    "    if count % 2 == 0:\n",
    "        layer_number +=1\n",
    "        print(\" ------------ \")\n",
    "    if len(weight.shape) == 2:\n",
    "        print(\"Weight matrix of layer\", str(layer_number),\"has shape: \",str(weight.shape))\n",
    "    if len(weight.shape) == 1:\n",
    "        print(\"Bias vector of layer\", str(layer_number),\"has shape: \",str(weight.shape))"
   ]
  },
  {
   "cell_type": "markdown",
   "metadata": {},
   "source": [
    "Lets just look at the weights of the final layer:"
   ]
  },
  {
   "cell_type": "code",
   "execution_count": 34,
   "metadata": {},
   "outputs": [
    {
     "data": {
      "image/png": "[encoded data removed]",
      "text/plain": [
       "<matplotlib.figure.Figure at 0x7fb1f87a27f0>"
      ]
     },
     "metadata": {},
     "output_type": "display_data"
    }
   ],
   "source": [
    "plt.figure(figsize = (15,10))\n",
    "_ = plt.imshow(weights[6].transpose(), cmap='hot', interpolation='nearest')"
   ]
  }
 ],
 "metadata": {
  "kernelspec": {
   "display_name": "Python 3",
   "language": "python",
   "name": "python3"
  },
  "language_info": {
   "codemirror_mode": {
    "name": "ipython",
    "version": 3
   },
   "file_extension": ".py",
   "mimetype": "text/x-python",
   "name": "python",
   "nbconvert_exporter": "python",
   "pygments_lexer": "ipython3",
   "version": "3.5.3"
  }
 },
 "nbformat": 4,
 "nbformat_minor": 2
}
