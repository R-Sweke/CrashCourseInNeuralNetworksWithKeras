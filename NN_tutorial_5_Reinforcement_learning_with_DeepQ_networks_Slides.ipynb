{
 "cells": [
  {
   "cell_type": "markdown",
   "metadata": {},
   "source": [
    "### A Crash Course on Neural Networks with Keras Part 5 - Deep-Q Reinforcement Learning\n",
    "\n",
    "Finally, lets shift gears and talk about reinforcement learning. This is of course by now a huge field and we will be deliberately brief and only scratch the surface. For more depth, rigour and context, I strongly suggest this excellent [textbook](http://incompleteideas.net/book/bookdraft2018mar11.pdf).\n",
    "\n",
    "So, what is Reinforcement learning?\n",
    "\n",
    "In general, we imagine the setting of an Agent interacting with some Environment in discrete time steps:\n",
    "\n",
    "<img src=\"images/EnvironmentAgent.png\",width=350,height=350>\n",
    "\n",
    "Very roughly, at each time step the agent is in some \"state\" $S_t$ - which could be a combination of its knowledge of the environment, its historical actions, and some internal variables, and it must then choose a valid action $A_t$ (or way of interacting with the environment). In response to this action, the environment changes and provides the agent with a scalar reward $R_{t+1}$ and a boolean signal which indicates whether the game is over (i.e. whether the agent fails/dies/loses). The agent then updates its state based on new information from the environment, and the loop continues. The goal of the agent is to learn how to act in such a way that maximizes the *expected discounted cumulative reward* it obtains (to be defined properly below). Note, that typically the way that the agent chooses its action, the way that the environment is effected by the action, and the reward that is generated can all be stochastic, and that in the context of finite state and action spaces this process can be formalized within the framework of finite Markov decision processes (FMDP) :\n",
    "\n",
    "$$p(s',r|s,a) \\equiv \\mathrm{pr}(S_t = s',R_t = r|S_{t-1} = s, A_{t-1} = a)$$\n",
    "\n",
    "There are by now many approaches to solving this problem, and many different algorithms. However, we will focus on an algorthim called \"Deep-Q learning\". Famously, this algorithm enabled agents to obtain human level performace on a variety of [Atari games](https://www.nature.com/articles/nature14236). "
   ]
  },
  {
   "cell_type": "markdown",
   "metadata": {},
   "source": [
    "#### 1a) A brief introduction to Deep-Q learning\n",
    "\n",
    "We present a vanilla version of the algorithm used in this [Atari paper](https://www.nature.com/articles/nature14236). This explanation is going to be brief, and so I strongly suggest looking at the original paper, as well as this excellent series of [blog posts](https://medium.com/emergent-future/simple-reinforcement-learning-with-tensorflow-part-0-q-learning-with-tables-and-neural-networks-d195264329d0), and Chapter 3 of this [book](http://incompleteideas.net/book/bookdraft2018mar11.pdf).\n",
    "\n",
    "Ok, lets get started. To understand how this works, we have to introduce a few definitions:\n",
    "\n",
    "Firstly, we define an Agent's *policy* $\\pi$ as a mapping from states to probabilities of specific actions - i.e. $\\pi(a|s)$ is the probability that $A_t = a$ if $S_t = s$.\n",
    "\n",
    "Next, for FMDP's we define the *value* of a state $s$, under policy $\\pi$ as:\n",
    "\n",
    "$$v_{\\pi}(s) = \\mathbb{E}_{\\pi}[G_t|S_t = s]  = \\mathbb{E}_{\\pi} \\Big[\\sum_{k = 0}^{\\infty}\\gamma^k R_{t+k+1}\\Big| S_t = s \\Big] \\qquad \\forall S_t \\in \\mathcal{S} $$\n",
    "\n",
    "where $G_t$ is the discounted return (discounted cumulative reward) with discount factor $0 \\leq \\gamma \\leq 1$ and $v$ is the *state-value function*.\n",
    "\n",
    "Similarly, we can define the *action-value function*  (the so called \"q\" function) for policy $\\pi$ via:\n",
    "\n",
    "$$q_{\\pi}(s,a) = \\mathbb{E}_{\\pi}[G_t|S_t = s, A_t = a]  = \\mathbb{E}_{\\pi} \\Big[\\sum_{k = 0}^{\\infty}\\gamma^k R_{t+k+1}\\Big| S_t = s, A_t = a \\Big]$$\n",
    "\n",
    "Importantly, both state and action value functions satisfy a relation (actually system of equations) known as Bellman's equation, which for action-value functions looks as follows:\n",
    "\n",
    "$$\n",
    "\\begin{align}\n",
    "q_{\\pi}(s,a) & =  \\mathbb{E}_{\\pi}[G_t|S_t = s, A_t = a] \\\\\n",
    "& = \\mathbb{E}_{\\pi}[R_{t+1} + \\gamma G_{t+1}|S_t = s, A_t = a]\\\\\n",
    "& = \\sum_{s'}\\sum_{r}p(s',r|s,a)\\big[r + \\gamma\\mathbb{E}_{\\pi}[G_{t+1}|S_{t+1} = s']\\big] \\\\\n",
    "& = \\sum_{s'}\\sum_{r}p(s',r|s,a)\\big[r + \\gamma v_{\\pi}(s')\\big]\n",
    "\\end{align}\n",
    "$$\n",
    "\n",
    "In addition, value functions allow us to place an order over policies ($\\pi > \\pi' \\iff v_{\\pi}(s) > v_{\\pi'}(s)\\quad \\forall s \\in \\mathcal{S} $) such that we can define an optimal policy $\\pi^*$, with respect to which the action-value function will be the unique solution of the following system of equations:\n",
    "\n",
    "$$q_*(s,a) = \\mathbb{E}\\big[R_{t+1} + \\gamma\\max_{a'}q_{*}(S_{t+1},a')\\big|S_t = s, A_t = a \\big]\\tag{1}$$\n",
    "\n",
    "Now, the idea of iterative Q-learning is to start from an arbitary $q$ function, and then use eqn. (1) as an update function for an agent which uses the $q$ function to make decisions as to how to interact with the environment. The hope (can be proven under certain constraints) is that the $q$ function will eventually converge to $q_*$, which is a stationary point of eqn. (1).\n",
    "\n",
    "More specifically, for *deep*-Q learning we parameterize $q$ with a neural network, and use eqn. (1) to construct the cost function on which we train the network. In particular we let the agent interact with the environment, using some $\\epsilon$-greedy policy, in the process generating tuples of experience of the following form:\n",
    "\n",
    "$$[S_t,A_t,R_{t+1},S_{t+1}]$$\n",
    "\n",
    "From these tuples we can construct a loss on which to train the Q-network, by using the cost function:\n",
    "\n",
    "$$\\begin{align} \n",
    "C &= y_{\\mathrm{pred}} - y_{\\mathrm{true}}\\\\\n",
    "&= q(S_t,A_t) - \\big[R_{t+1} + \\gamma\\max_{a'}q(S_{t+1},a') \\big]\n",
    "\\end{align}$$\n",
    "\n",
    "which, by staring at eqn. (1), we can see will be 0 only for the optimal policy."
   ]
  },
  {
   "cell_type": "markdown",
   "metadata": {},
   "source": [
    "#### 1b) Some practical considerations\n",
    "\n",
    "The idea of Q-learning has been around for a long time, however it is only [relatively recently](https://www.nature.com/articles/nature14236) that people started having success with deep-Q learning, as many aspects of the problem make the training process extremely unstable. In order to deal with this, the landmark deep-Q learning paper introduced the following tricks:\n",
    "\n",
    "  - _Memory buffer_: Rather than training online after each interaction with the environment, collect experience-tuples in a memory buffer from which you can randomly sample to create training batches\n",
    "  - _Seperate active and target network_: Because the q-function is used to create both the \"truth-label\" and the prediction of the cost function, training can be extremely unstable. To fix this one can create a target network, which is an exact copy of the q-network from which the agent is making decisions, but which is updated less frequently.\n",
    "  \n",
    "In addition to these tricks, there have since been subsequent additional ideas, which have helped a lot:\n",
    "\n",
    "  - [Prioritized Experience Replay](https://arxiv.org/abs/1511.05952): Instead of sampling batches randomly from the memory buffer, sample according to a probability distribution which gives more weight to experience tuples from which the agent stands to learn more.\n",
    "  - [Double Q Learning](https://arxiv.org/abs/1509.06461): When using a seperate target and active q-network, the loss function can systematically over-estimate the  value of certain actions. Double Q learning modifies the loss function to address this problem.\n",
    "  - [Dualing Q Networks](https://arxiv.org/abs/1511.06581): See the paper :)\n",
    "\n",
    "It's also worth mentioning different methods and extensions of Q-learning, such as [Asynchronous Actor Critic](https://arxiv.org/abs/1602.01783), which has proven extremely powerful.\n",
    "\n",
    "\n",
    "Practically, the Q-function is parameterized via a NN which takes as input the current state $S_t$, and has as many outputs as there are legal actions, with each output corresponding to the state-action value for that action given the input state.\n",
    "\n",
    "Once again, as when discussing GAN's, the neural network architecture via which the q function is parameterized is of course up to you - for tasks in which the state $S_t$ is an image (like in the Atari environment) it would make sense to use a CNN, or perhaps an LSTM if one wants to see historical sequences of frames."
   ]
  },
  {
   "cell_type": "markdown",
   "metadata": {},
   "source": [
    "#### 2a) Lets build and train a Deep-Q network\n",
    "\n",
    "To give an example, we will use the [openAI gym](https://gym.openai.com/) [cart-pole environment](https://gym.openai.com/envs/CartPole-v0/).\n",
    "\n",
    "OpenAI gym provides multiple environments which can interface with any agent you build. You just need to supply a valid action, and the environment will respond with a new environment state and a reward. There are [lots of cool environments](https://gym.openai.com/envs/#classic_control) - including locomotion and Atari :)\n",
    "\n",
    "The cart pole task is to balance a pole on a cart:\n",
    "\n",
    "<img src=\"images/cart_pole.gif\",width=350,height=350>\n",
    "\n",
    "In particular, at anytime the state of the environment that the agent has access to is a four dimensional vector:\n",
    "\n",
    "     - [position of cart, velocity of cart, angle of pole from vertical, angular velocity of pole]\n",
    "\n",
    "and the agent only ever has two valid actions:\n",
    "\n",
    "     - [move_cart_left, move_cart_right]\n",
    "     \n",
    "The game is over when the pole hits the ground, and the agent recieves a reward of 1 for every time step in which the game is not over.\n",
    "\n",
    "We will build a completely vanilla implementation, with a simple FFNN, in essence a simplified version of the methods used in the original [Atari paper](https://www.nature.com/articles/nature14236)."
   ]
  },
  {
   "cell_type": "code",
   "execution_count": 2,
   "metadata": {},
   "outputs": [],
   "source": [
    "# ---------- Imports ---------------\n",
    "\n",
    "import random\n",
    "import gym\n",
    "import numpy as np\n",
    "from collections import deque\n",
    "\n",
    "import keras\n",
    "from keras.layers import Dense, Dropout, Activation, LSTM, Input\n",
    "from keras.models import Model, Sequential\n",
    "from keras.regularizers import l2\n",
    "from keras.optimizers import Adam\n",
    "from keras import backend as K\n",
    "import tensorflow as tf\n",
    "\n",
    "import matplotlib.pyplot as plt\n",
    "%matplotlib inline\n",
    "\n",
    "from IPython.display import clear_output"
   ]
  },
  {
   "cell_type": "markdown",
   "metadata": {},
   "source": [
    "As discussed in the Atari paper, training is more stable if the losses are clipped, which can be achieved by a custom loss function, the [Huber Loss](https://en.wikipedia.org/wiki/Huber_loss). This can be defined in Keras as follows:"
   ]
  },
  {
   "cell_type": "code",
   "execution_count": 3,
   "metadata": {},
   "outputs": [],
   "source": [
    "def huber_loss(y_true, y_pred, clip_delta=1.0):\n",
    "    error = y_true - y_pred\n",
    "    cond  = K.abs(error) < clip_delta\n",
    "\n",
    "    squared_loss = 0.5 * K.square(error)\n",
    "    linear_loss  = clip_delta * (K.abs(error) - 0.5 * clip_delta)\n",
    "\n",
    "    return tf.where(cond, squared_loss, linear_loss)\n",
    "\n",
    "def huber_loss_mean(y_true, y_pred, clip_delta=1.0):\n",
    "    return K.mean(huber_loss(y_true, y_pred, clip_delta))"
   ]
  },
  {
   "cell_type": "markdown",
   "metadata": {},
   "source": [
    "Once again we will use our simple function for building FFNN's"
   ]
  },
  {
   "cell_type": "code",
   "execution_count": 4,
   "metadata": {},
   "outputs": [],
   "source": [
    "def build_FFNN(num_features, num_categories,ff_layers, learning_rate):\n",
    "\n",
    "    nnet = Sequential()\n",
    "    \n",
    "    for layer in range(len(ff_layers)):\n",
    "        \n",
    "        if layer == 0:\n",
    "            nnet.add(Dense(ff_layers[0][0], activation='relu', input_shape=(num_features,)))\n",
    "        else:\n",
    "            nnet.add(Dense(ff_layers[layer][0], activation='relu'))\n",
    "                \n",
    "        if ff_layers[layer][1] > 0:\n",
    "            nnet.add(Dropout(ff_layers[layer][1]))\n",
    "\n",
    "    nnet.add(Dense(num_categories,activation=\"linear\"))\n",
    "    \n",
    "    ad_opt = Adam(lr=learning_rate)\n",
    "    nnet.compile(optimizer=ad_opt, loss=\"mean_squared_error\")\n",
    "    \n",
    "    return nnet"
   ]
  },
  {
   "cell_type": "markdown",
   "metadata": {},
   "source": [
    "We need helper functions for action selection and batch construction:"
   ]
  },
  {
   "cell_type": "code",
   "execution_count": 5,
   "metadata": {},
   "outputs": [],
   "source": [
    "def epsilon_greedy_action(Q_nn,observation,epsilon):\n",
    "    \n",
    "    if np.random.rand() < epsilon:\n",
    "        # With probability epsilon act randomly\n",
    "        action = random.randrange(2)\n",
    "    else:\n",
    "        # With probability 1- epsilon act in a greedy way with respect to the active Q function\n",
    "        action = np.argmax(Q_nn.predict(np.expand_dims(observation,axis=0))[0])\n",
    "        \n",
    "    return action\n",
    "       \n",
    "def construct_training_batch(memory_buffer, batch_size, target_network, active_network, gamma):\n",
    "    \n",
    "    # Sample a random selection of experience-tuples/memories\n",
    "    mini_batch = random.sample(memory_buffer, batch_size)\n",
    "    \n",
    "    x_batch, y_batch = [], []\n",
    "    for state, action, reward, new_state, done in mini_batch:\n",
    "        # For each experience-tuple in the sampled batch of memories:\n",
    "        \n",
    "        # Get the current action values. \n",
    "        target = active_network.predict(np.expand_dims(state,axis=0))[0]\n",
    "        \n",
    "        if done:\n",
    "            # If in the terminal state, the expected future reward is just the current reward.\n",
    "            # We replace the action value for the action we took with this value for y_true\n",
    "            target[action] = reward\n",
    "        else:\n",
    "            # if not in the terminal state, then we bootstrap y_true using Bellmans equation for the optimal q function\n",
    "            target[action] = reward + gamma*np.max(target_network.predict(np.expand_dims(new_state,axis=0))[0])\n",
    "        \n",
    "        # Add this state and target function to the training batch\n",
    "        x_batch.append(state)\n",
    "        y_batch.append(target)\n",
    "        \n",
    "    return np.array(x_batch), np.array(y_batch)"
   ]
  },
  {
   "cell_type": "markdown",
   "metadata": {},
   "source": [
    "We can then set up the environment and define all relevant settings:"
   ]
  },
  {
   "cell_type": "code",
   "execution_count": 9,
   "metadata": {},
   "outputs": [
    {
     "name": "stdout",
     "output_type": "stream",
     "text": [
      "\u001b[33mWARN: gym.spaces.Box autodetected dtype as <class 'numpy.float32'>. Please provide explicit dtype.\u001b[0m\n"
     ]
    }
   ],
   "source": [
    "# ------------- Env Specification ----------\n",
    "\n",
    "env = gym.make('CartPole-v1')\n",
    "\n",
    "# ---------- FFNN specification -------------------\n",
    "\n",
    "ff_layers = [[20,0],[20,0]]               # We use a very small FFNN\n",
    "learning_rate = 0.001\n",
    "num_outputs = 2                           # The number of outputs is the number of valid actions\n",
    "num_features = 4                          # The number of features is the given by the state description\n",
    "\n",
    "# ---------- Training specifications -------------\n",
    "\n",
    "min_buffer_size = 100                     # We only start training after collecting 100 memories\n",
    "max_buffer_size = 1000                    # The buffer is a queue with maximum length 1000\n",
    "batch_size = 32       \n",
    "max_episodes = 200\n",
    "max_episode_length = 1000\n",
    "\n",
    "\n",
    "# -------- Other agent specifications ----------\n",
    "\n",
    "gamma = 0.99                                   # Discounting factor\n",
    "epsilon_initial = 0.99                         # intial exploration probability\n",
    "epsilon_decay = 0.995                          # epsilon decay factor\n",
    "epsilon_min = 0.01                             # minimum exploration probability"
   ]
  },
  {
   "cell_type": "markdown",
   "metadata": {},
   "source": [
    "And then we can train the agent:"
   ]
  },
  {
   "cell_type": "code",
   "execution_count": 10,
   "metadata": {},
   "outputs": [
    {
     "name": "stdout",
     "output_type": "stream",
     "text": [
      "Episode: 201  Final Episode Length:  115\n",
      "Training Stopped\n"
     ]
    }
   ],
   "source": [
    "# ------------ Algorithm -----------------------------------\n",
    "\n",
    "# 1) Initialize the memory buffer\n",
    "memory_buffer = deque(maxlen=3000)\n",
    "\n",
    "# Initialize lists to store improvement metrics\n",
    "episode_lengths = []\n",
    "\n",
    "# 2) Initialize the Q network and the target Q network\n",
    "\n",
    "Q_nn = build_FFNN(num_features, num_outputs,ff_layers,learning_rate)\n",
    "Q_nn_target = build_FFNN(num_features, num_outputs,ff_layers,learning_rate)\n",
    "\n",
    "Q_nn_weights = Q_nn.get_weights()\n",
    "Q_nn_target.set_weights(Q_nn_weights)\n",
    "\n",
    "# 3) Initialize relevant variables and counters\n",
    "epsilon = epsilon_initial\n",
    "\n",
    "stop_training = False\n",
    "episode = 1\n",
    "while not stop_training:\n",
    "    \n",
    "    # Reset the environment and relevant flags and counters\n",
    "    observation = env.reset()      \n",
    "    stop_episode = False\n",
    "    episode_length = 1\n",
    "\n",
    "    while not stop_episode and not stop_training:\n",
    "            \n",
    "        # Choose an action in an epsilon greedy manner\n",
    "        action = epsilon_greedy_action(Q_nn,observation,epsilon)  \n",
    "        \n",
    "        # Act with this action\n",
    "        new_observation, reward, terminal_state, info = env.step(action)\n",
    "        \n",
    "        # Construct the experience-tuple and add it to the memory buffer\n",
    "        memory = [observation, action, reward, new_observation, terminal_state]\n",
    "        memory_buffer.append(memory)\n",
    "        \n",
    "        observation = new_observation\n",
    "        \n",
    "        # If we have enough memories we can train the neural network\n",
    "        if len(memory_buffer) > min_buffer_size:\n",
    "            \n",
    "            # Fetch the training batch and the targets\n",
    "            training_inputs, training_targets = construct_training_batch(memory_buffer, batch_size, Q_nn_target,\n",
    "                                                                        Q_nn, gamma)\n",
    "            \n",
    "            # Fit the neural network on this batch\n",
    "            Q_nn.fit(x=training_inputs, y = training_targets, batch_size=batch_size,verbose=0)\n",
    "                    \n",
    "        # lets anneal the exploration probability\n",
    "        if epsilon > epsilon_min:\n",
    "                epsilon = epsilon*epsilon_decay\n",
    "            \n",
    "        # check if the episode should end:                                                      \n",
    "        if terminal_state or episode_length > max_episode_length:\n",
    "            stop_episode = True\n",
    "            episode +=1\n",
    "            episode_lengths.append(episode_length)\n",
    "            \n",
    "            clear_output()\n",
    "            print(\"Episode:\", episode, \" Final Episode Length: \", episode_length)\n",
    "            \n",
    "            # Update the target neural network\n",
    "            Q_nn_target.set_weights(Q_nn.get_weights())\n",
    "            \n",
    "        # check if training should end\n",
    "        if stop_training or episode > max_episodes:\n",
    "            stop_training = True\n",
    "            print(\"Training Stopped\")\n",
    "            episode_lengths.append(episode_length)\n",
    "                                 \n",
    "        episode_length += 1"
   ]
  },
  {
   "cell_type": "markdown",
   "metadata": {},
   "source": [
    "Lets have a look at the results:"
   ]
  },
  {
   "cell_type": "code",
   "execution_count": 32,
   "metadata": {},
   "outputs": [
    {
     "data": {
      "image/png": "[encoded data removed]",
      "text/plain": [
       "<matplotlib.figure.Figure at 0x7f1d54791ef0>"
      ]
     },
     "metadata": {},
     "output_type": "display_data"
    }
   ],
   "source": [
    "avg_len = [np.average(episode_lengths[j-50:j]) for j in range(50,len(episode_lengths))]\n",
    "_ = plt.plot([x for x in range(50,201)],avg_len,'r', label='rolling average')\n",
    "_ = plt.plot([x for x in range(50,201)],episode_lengths[50:],'b', label='episode lengths')\n",
    "_ = plt.xlabel(\"episode number\")\n",
    "_ = plt.ylabel(\"episode length\")\n",
    "_ = plt.legend()"
   ]
  },
  {
   "cell_type": "markdown",
   "metadata": {},
   "source": [
    "Seems like its on its way - go play :)"
   ]
  },
  {
   "cell_type": "code",
   "execution_count": null,
   "metadata": {},
   "outputs": [],
   "source": []
  }
 ],
 "metadata": {
  "kernelspec": {
   "display_name": "Python 3",
   "language": "python",
   "name": "python3"
  },
  "language_info": {
   "codemirror_mode": {
    "name": "ipython",
    "version": 3
   },
   "file_extension": ".py",
   "mimetype": "text/x-python",
   "name": "python",
   "nbconvert_exporter": "python",
   "pygments_lexer": "ipython3",
   "version": "3.6.4"
  }
 },
 "nbformat": 4,
 "nbformat_minor": 2
}
